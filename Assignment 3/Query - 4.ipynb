{
 "cells": [
  {
   "cell_type": "markdown",
   "metadata": {
    "collapsed": true
   },
   "source": [
    "## Loading the Data Frame"
   ]
  },
  {
   "cell_type": "code",
   "execution_count": 1,
   "metadata": {},
   "outputs": [
    {
     "data": {
      "text/html": [
       "<div>\n",
       "<table border=\"1\" class=\"dataframe\">\n",
       "  <thead>\n",
       "    <tr style=\"text-align: right;\">\n",
       "      <th></th>\n",
       "      <th>﻿ComID</th>\n",
       "      <th>GeogName</th>\n",
       "      <th>DataGroup1</th>\n",
       "      <th>DataGroup1_Order</th>\n",
       "      <th>DataGroup2</th>\n",
       "      <th>Year</th>\n",
       "      <th>Fatal</th>\n",
       "      <th>Injury</th>\n",
       "      <th>Property Damage</th>\n",
       "      <th>Total</th>\n",
       "    </tr>\n",
       "  </thead>\n",
       "  <tbody>\n",
       "    <tr>\n",
       "      <th>0</th>\n",
       "      <td>cnt1201</td>\n",
       "      <td>Shelburne County</td>\n",
       "      <td>Total Reporting</td>\n",
       "      <td>1</td>\n",
       "      <td>Number</td>\n",
       "      <td>2001</td>\n",
       "      <td>3</td>\n",
       "      <td>60</td>\n",
       "      <td>148</td>\n",
       "      <td>211</td>\n",
       "    </tr>\n",
       "    <tr>\n",
       "      <th>1</th>\n",
       "      <td>cnt1201</td>\n",
       "      <td>Shelburne County</td>\n",
       "      <td>Total Reporting</td>\n",
       "      <td>1</td>\n",
       "      <td>Number</td>\n",
       "      <td>2002</td>\n",
       "      <td>2</td>\n",
       "      <td>47</td>\n",
       "      <td>122</td>\n",
       "      <td>171</td>\n",
       "    </tr>\n",
       "    <tr>\n",
       "      <th>2</th>\n",
       "      <td>cnt1201</td>\n",
       "      <td>Shelburne County</td>\n",
       "      <td>Total Reporting</td>\n",
       "      <td>1</td>\n",
       "      <td>Number</td>\n",
       "      <td>2003</td>\n",
       "      <td>1</td>\n",
       "      <td>69</td>\n",
       "      <td>141</td>\n",
       "      <td>211</td>\n",
       "    </tr>\n",
       "    <tr>\n",
       "      <th>3</th>\n",
       "      <td>cnt1201</td>\n",
       "      <td>Shelburne County</td>\n",
       "      <td>Total Reporting</td>\n",
       "      <td>1</td>\n",
       "      <td>Number</td>\n",
       "      <td>2000</td>\n",
       "      <td>0</td>\n",
       "      <td>49</td>\n",
       "      <td>135</td>\n",
       "      <td>184</td>\n",
       "    </tr>\n",
       "    <tr>\n",
       "      <th>4</th>\n",
       "      <td>cnt1202</td>\n",
       "      <td>Yarmouth County</td>\n",
       "      <td>Total Reporting</td>\n",
       "      <td>1</td>\n",
       "      <td>Number</td>\n",
       "      <td>2000</td>\n",
       "      <td>2</td>\n",
       "      <td>84</td>\n",
       "      <td>237</td>\n",
       "      <td>323</td>\n",
       "    </tr>\n",
       "  </tbody>\n",
       "</table>\n",
       "</div>"
      ],
      "text/plain": [
       "    ﻿ComID          GeogName       DataGroup1  DataGroup1_Order DataGroup2  \\\n",
       "0  cnt1201  Shelburne County  Total Reporting                 1     Number   \n",
       "1  cnt1201  Shelburne County  Total Reporting                 1     Number   \n",
       "2  cnt1201  Shelburne County  Total Reporting                 1     Number   \n",
       "3  cnt1201  Shelburne County  Total Reporting                 1     Number   \n",
       "4  cnt1202   Yarmouth County  Total Reporting                 1     Number   \n",
       "\n",
       "   Year  Fatal  Injury  Property Damage  Total  \n",
       "0  2001      3      60              148    211  \n",
       "1  2002      2      47              122    171  \n",
       "2  2003      1      69              141    211  \n",
       "3  2000      0      49              135    184  \n",
       "4  2000      2      84              237    323  "
      ]
     },
     "execution_count": 1,
     "metadata": {},
     "output_type": "execute_result"
    }
   ],
   "source": [
    "import time\n",
    "import sys\n",
    "import types\n",
    "import pandas as pd\n",
    "from botocore.client import Config\n",
    "import ibm_boto3\n",
    "\n",
    "def __iter__(self): return 0\n",
    "\n",
    "# @hidden_cell\n",
    "# The following code accesses a file in your IBM Cloud Object Storage. It includes your credentials.\n",
    "# You might want to remove those credentials before you share your notebook.\n",
    "client_1f6f2e6280144b23bb3fd53cbdb85cdd = ibm_boto3.client(service_name='s3',\n",
    "    ibm_api_key_id='H3RY-cRAHjH4W0Kbzwe1nQnJy4oM49dgBZOdz0R3AUwB',\n",
    "    ibm_auth_endpoint=\"https://iam.ng.bluemix.net/oidc/token\",\n",
    "    config=Config(signature_version='oauth'),\n",
    "    endpoint_url='https://s3-api.us-geo.objectstorage.service.networklayer.com')\n",
    "\n",
    "body = client_1f6f2e6280144b23bb3fd53cbdb85cdd.get_object(Bucket='qwerty28b58f4c38184cafbd941800e4d7f669',Key='Collision_Statistics_Monthly_2000-2003.csv')['Body']\n",
    "# add missing __iter__ method, so pandas accepts body as file-like object\n",
    "if not hasattr(body, \"__iter__\"): body.__iter__ = types.MethodType( __iter__, body )\n",
    "\n",
    "df_data_1 = pd.read_csv(body)\n",
    "df_data_1.head()\n"
   ]
  },
  {
   "cell_type": "markdown",
   "metadata": {},
   "source": [
    "## Connecting Pandas DataFrame with SQL Spark"
   ]
  },
  {
   "cell_type": "code",
   "execution_count": 19,
   "metadata": {},
   "outputs": [
    {
     "name": "stdout",
     "output_type": "stream",
     "text": [
      "root\n",
      " |-- ﻿ComID: string (nullable = true)\n",
      " |-- GeogName: string (nullable = true)\n",
      " |-- DataGroup1: string (nullable = true)\n",
      " |-- DataGroup1_Order: long (nullable = true)\n",
      " |-- DataGroup2: string (nullable = true)\n",
      " |-- Year: long (nullable = true)\n",
      " |-- Fatal: double (nullable = true)\n",
      " |-- Injury: double (nullable = true)\n",
      " |-- Property Damage: double (nullable = true)\n",
      " |-- Total: double (nullable = true)\n",
      "\n",
      "Response Time: 0.237887859344 seconds\n"
     ]
    }
   ],
   "source": [
    "time1 = time.time()\n",
    "sqlContext = SQLContext(sc)\n",
    "sdf = sqlContext.createDataFrame(df_data_1)\n",
    "sdf.printSchema()\n",
    "print(\"Response Time: %s seconds\" % (time.time() - time1))"
   ]
  },
  {
   "cell_type": "markdown",
   "metadata": {},
   "source": [
    "### Problem 4.1 - Capture total incident counts (including Fatal, Injury and Property Damage) in a year (grouped by year). "
   ]
  },
  {
   "cell_type": "code",
   "execution_count": 20,
   "metadata": {},
   "outputs": [
    {
     "name": "stdout",
     "output_type": "stream",
     "text": [
      "+----+------------------+\n",
      "|year|        sum(Total)|\n",
      "+----+------------------+\n",
      "|2000| 60824.20000000001|\n",
      "|2001|           58499.4|\n",
      "|2002|           55977.2|\n",
      "|2003|50492.899999999994|\n",
      "+----+------------------+\n",
      "\n",
      "Response Time: 1.15971589088 seconds\n"
     ]
    }
   ],
   "source": [
    "time2 = time.time()\n",
    "sdf.registerTempTable(\"abc\")\n",
    "\n",
    "abc = sqlContext.sql(\"SELECT year, Sum(Total) FROM abc group by year order by year\")\n",
    "abc.show()\n",
    "print(\"Response Time: %s seconds\" % (time.time() - time2))"
   ]
  },
  {
   "cell_type": "markdown",
   "metadata": {},
   "source": [
    "### Problem 4.2 - Capture sum of injuries in Nova Scotia grouped by year. "
   ]
  },
  {
   "cell_type": "code",
   "execution_count": 21,
   "metadata": {},
   "outputs": [
    {
     "name": "stdout",
     "output_type": "stream",
     "text": [
      "+----+-----------------+\n",
      "|year|      sum(Injury)|\n",
      "+----+-----------------+\n",
      "|2000|           9848.6|\n",
      "|2001|8975.499999999998|\n",
      "|2002|           8471.1|\n",
      "|2003|7488.099999999999|\n",
      "+----+-----------------+\n",
      "\n",
      "Response Time: 0.436430931091 seconds\n"
     ]
    }
   ],
   "source": [
    "time3 = time.time()\n",
    "sdf.registerTempTable(\"abc\")\n",
    "\n",
    "abc = sqlContext.sql(\"SELECT year, Sum(Injury) FROM abc WHERE GeogName = 'Nova Scotia' group by year order by year\")\n",
    "abc.show()\n",
    "print(\"Response Time: %s seconds\" % (time.time() - time3))"
   ]
  },
  {
   "cell_type": "markdown",
   "metadata": {},
   "source": [
    "### Problem 4.3 - Capture sum of injury in Yarmouth Country in the year of 2000."
   ]
  },
  {
   "cell_type": "code",
   "execution_count": 22,
   "metadata": {},
   "outputs": [
    {
     "name": "stdout",
     "output_type": "stream",
     "text": [
      "+----+-----------+\n",
      "|year|sum(Injury)|\n",
      "+----+-----------+\n",
      "|2000|      174.1|\n",
      "+----+-----------+\n",
      "\n",
      "Response Time: 0.544846057892 seconds\n"
     ]
    }
   ],
   "source": [
    "time4 = time.time()\n",
    "sdf.registerTempTable(\"abc\")\n",
    "\n",
    "abc = sqlContext.sql(\"SELECT year, Sum(Injury) FROM abc WHERE GeogName = 'Yarmouth County' and Year = 2000 group by year \")\n",
    "abc.show()\n",
    "print(\"Response Time: %s seconds\" % (time.time() - time4))"
   ]
  }
 ],
 "metadata": {
  "kernelspec": {
   "display_name": "Python 2 with Spark 2.1",
   "language": "python",
   "name": "python2-spark21"
  },
  "language_info": {
   "codemirror_mode": {
    "name": "ipython",
    "version": 2
   },
   "file_extension": ".py",
   "mimetype": "text/x-python",
   "name": "python",
   "nbconvert_exporter": "python",
   "pygments_lexer": "ipython2",
   "version": "2.7.11"
  }
 },
 "nbformat": 4,
 "nbformat_minor": 1
}
