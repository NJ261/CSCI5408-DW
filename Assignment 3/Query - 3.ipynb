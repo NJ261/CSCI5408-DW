{
 "cells": [
  {
   "cell_type": "markdown",
   "metadata": {},
   "source": [
    "## Loading the Dataset"
   ]
  },
  {
   "cell_type": "code",
   "execution_count": 1,
   "metadata": {},
   "outputs": [
    {
     "data": {
      "text/html": [
       "<div>\n",
       "<table border=\"1\" class=\"dataframe\">\n",
       "  <thead>\n",
       "    <tr style=\"text-align: right;\">\n",
       "      <th></th>\n",
       "      <th>Id</th>\n",
       "      <th>Name</th>\n",
       "      <th>Year</th>\n",
       "      <th>Gender</th>\n",
       "      <th>Count</th>\n",
       "    </tr>\n",
       "  </thead>\n",
       "  <tbody>\n",
       "    <tr>\n",
       "      <th>0</th>\n",
       "      <td>1</td>\n",
       "      <td>Mary</td>\n",
       "      <td>1880</td>\n",
       "      <td>F</td>\n",
       "      <td>7065</td>\n",
       "    </tr>\n",
       "    <tr>\n",
       "      <th>1</th>\n",
       "      <td>2</td>\n",
       "      <td>Anna</td>\n",
       "      <td>1880</td>\n",
       "      <td>F</td>\n",
       "      <td>2604</td>\n",
       "    </tr>\n",
       "    <tr>\n",
       "      <th>2</th>\n",
       "      <td>3</td>\n",
       "      <td>Emma</td>\n",
       "      <td>1880</td>\n",
       "      <td>F</td>\n",
       "      <td>2003</td>\n",
       "    </tr>\n",
       "    <tr>\n",
       "      <th>3</th>\n",
       "      <td>4</td>\n",
       "      <td>Elizabeth</td>\n",
       "      <td>1880</td>\n",
       "      <td>F</td>\n",
       "      <td>1939</td>\n",
       "    </tr>\n",
       "    <tr>\n",
       "      <th>4</th>\n",
       "      <td>5</td>\n",
       "      <td>Minnie</td>\n",
       "      <td>1880</td>\n",
       "      <td>F</td>\n",
       "      <td>1746</td>\n",
       "    </tr>\n",
       "  </tbody>\n",
       "</table>\n",
       "</div>"
      ],
      "text/plain": [
       "   Id       Name  Year Gender  Count\n",
       "0   1       Mary  1880      F   7065\n",
       "1   2       Anna  1880      F   2604\n",
       "2   3       Emma  1880      F   2003\n",
       "3   4  Elizabeth  1880      F   1939\n",
       "4   5     Minnie  1880      F   1746"
      ]
     },
     "execution_count": 1,
     "metadata": {},
     "output_type": "execute_result"
    }
   ],
   "source": [
    "import time\n",
    "import sys\n",
    "import types\n",
    "import pandas as pd\n",
    "from botocore.client import Config\n",
    "import ibm_boto3\n",
    "\n",
    "def __iter__(self): return 0\n",
    "\n",
    "# @hidden_cell\n",
    "# The following code accesses a file in your IBM Cloud Object Storage. It includes your credentials.\n",
    "# You might want to remove those credentials before you share your notebook.\n",
    "client_1f6f2e6280144b23bb3fd53cbdb85cdd = ibm_boto3.client(service_name='s3',\n",
    "    ibm_api_key_id='H3RY-cRAHjH4W0Kbzwe1nQnJy4oM49dgBZOdz0R3AUwB',\n",
    "    ibm_auth_endpoint=\"https://iam.ng.bluemix.net/oidc/token\",\n",
    "    config=Config(signature_version='oauth'),\n",
    "    endpoint_url='https://s3-api.us-geo.objectstorage.service.networklayer.com')\n",
    "\n",
    "body = client_1f6f2e6280144b23bb3fd53cbdb85cdd.get_object(Bucket='qwerty28b58f4c38184cafbd941800e4d7f669',Key='NationalNames.csv')['Body']\n",
    "# add missing __iter__ method, so pandas accepts body as file-like object\n",
    "if not hasattr(body, \"__iter__\"): body.__iter__ = types.MethodType( __iter__, body )\n",
    "\n",
    "df_data_1 = pd.read_csv(body)\n",
    "df_data_1.head()"
   ]
  },
  {
   "cell_type": "markdown",
   "metadata": {},
   "source": [
    "## Connecting Pandas Dataframe with SQL"
   ]
  },
  {
   "cell_type": "code",
   "execution_count": 10,
   "metadata": {},
   "outputs": [
    {
     "name": "stdout",
     "output_type": "stream",
     "text": [
      "root\n",
      " |-- Id: long (nullable = true)\n",
      " |-- Name: string (nullable = true)\n",
      " |-- Year: long (nullable = true)\n",
      " |-- Gender: string (nullable = true)\n",
      " |-- Count: long (nullable = true)\n",
      "\n",
      "response time: 113.948674917 seconds\n"
     ]
    }
   ],
   "source": [
    "time1 = time.time()\n",
    "sqlContext = SQLContext(sc)\n",
    "sdf = sqlContext.createDataFrame(df_data_1)\n",
    "sdf.printSchema()\n",
    "print(\"response time: %s seconds\" % (time.time() - time1))"
   ]
  },
  {
   "cell_type": "markdown",
   "metadata": {},
   "source": [
    "### Problem 3.1 - Total number of birth registered in a year"
   ]
  },
  {
   "cell_type": "code",
   "execution_count": 7,
   "metadata": {},
   "outputs": [
    {
     "name": "stdout",
     "output_type": "stream",
     "text": [
      "+----+----------+\n",
      "|Year|sum(Count)|\n",
      "+----+----------+\n",
      "|1880|    201484|\n",
      "|1881|    192699|\n",
      "|1882|    221538|\n",
      "|1883|    216950|\n",
      "|1884|    243467|\n",
      "|1885|    240855|\n",
      "|1886|    255319|\n",
      "|1887|    247396|\n",
      "|1888|    299480|\n",
      "|1889|    288950|\n",
      "|1890|    301402|\n",
      "|1891|    286678|\n",
      "|1892|    334383|\n",
      "|1893|    325223|\n",
      "|1894|    338694|\n",
      "|1895|    351028|\n",
      "|1896|    357490|\n",
      "|1897|    346960|\n",
      "|1898|    381463|\n",
      "|1899|    339235|\n",
      "+----+----------+\n",
      "only showing top 20 rows\n",
      "\n",
      "response time: 6.16431713104 seconds\n"
     ]
    }
   ],
   "source": [
    "time2 = time.time()\n",
    "sdf.groupby(['Year'])\\\n",
    ".agg({\"Count\": \"Sum\"})\\\n",
    ".sort(\"Year\", ascending=True)\\\n",
    ".show()\n",
    "print(\"response time: %s seconds\" % (time.time() - time2))"
   ]
  },
  {
   "cell_type": "markdown",
   "metadata": {},
   "source": [
    "### Problem 3.2 - Total number of births registered in a year by gender"
   ]
  },
  {
   "cell_type": "code",
   "execution_count": 6,
   "metadata": {},
   "outputs": [
    {
     "name": "stdout",
     "output_type": "stream",
     "text": [
      "+----+------+----------+\n",
      "|Year|Gender|sum(Count)|\n",
      "+----+------+----------+\n",
      "|1880|     M|    110491|\n",
      "|1880|     F|     90993|\n",
      "|1881|     M|    100745|\n",
      "|1881|     F|     91954|\n",
      "|1882|     M|    113688|\n",
      "|1882|     F|    107850|\n",
      "|1883|     M|    104629|\n",
      "|1883|     F|    112321|\n",
      "|1884|     M|    114445|\n",
      "|1884|     F|    129022|\n",
      "|1885|     F|    133055|\n",
      "|1885|     M|    107800|\n",
      "|1886|     M|    110784|\n",
      "|1886|     F|    144535|\n",
      "|1887|     F|    145982|\n",
      "|1887|     M|    101414|\n",
      "|1888|     M|    120853|\n",
      "|1888|     F|    178627|\n",
      "|1889|     F|    178366|\n",
      "|1889|     M|    110584|\n",
      "+----+------+----------+\n",
      "only showing top 20 rows\n",
      "\n",
      "response time: 5.94586610794 seconds\n"
     ]
    }
   ],
   "source": [
    "time3 = time.time()\n",
    "sdf.groupby(['Year', 'Gender'])\\\n",
    ".agg({\"Count\": \"Sum\"})\\\n",
    ".sort(\"Year\", ascending=True)\\\n",
    ".show()\n",
    "print(\"response time: %s seconds\" % (time.time() - time3))"
   ]
  },
  {
   "cell_type": "markdown",
   "metadata": {},
   "source": [
    "### Problem 3.3 - Input a year and populate top 5 most popular names registered that year "
   ]
  },
  {
   "cell_type": "code",
   "execution_count": 9,
   "metadata": {},
   "outputs": [
    {
     "name": "stdout",
     "output_type": "stream",
     "text": [
      "Enter the Year: 1880\n",
      "+----+-------+----------+\n",
      "|Year|   Name|sum(COUNT)|\n",
      "+----+-------+----------+\n",
      "|1880|   John|      9701|\n",
      "|1880|William|      9562|\n",
      "|1880|   Mary|      7092|\n",
      "|1880|  James|      5949|\n",
      "|1880|Charles|      5359|\n",
      "+----+-------+----------+\n",
      "\n",
      "response time: 8.98127889633 seconds\n"
     ]
    }
   ],
   "source": [
    "time4 = time.time()\n",
    "Year = raw_input(\"Enter the Year: \")\n",
    "sdf.registerTempTable(\"abc\")\n",
    "\n",
    "queryString = \"select Year, Name, sum(COUNT) from abc where Year like %s group by Name, Year  order by sum(count) desc LIMIT 5\" % Year\n",
    "\n",
    "abc = sqlContext.sql(queryString).show()\n",
    "print(\"response time: %s seconds\" % (time.time() - time4))"
   ]
  },
  {
   "cell_type": "markdown",
   "metadata": {},
   "source": [
    "### Problem 3.4 - Input a child name and populate total number of birth registrations throughout the dataset for that name"
   ]
  },
  {
   "cell_type": "code",
   "execution_count": 8,
   "metadata": {},
   "outputs": [
    {
     "name": "stdout",
     "output_type": "stream",
     "text": [
      "Enter your name: Helen\n",
      "+----------+\n",
      "|sum(Count)|\n",
      "+----------+\n",
      "|   1019006|\n",
      "+----------+\n",
      "\n",
      "response time: 8.50237298012 seconds\n"
     ]
    }
   ],
   "source": [
    "time5 = time.time()\n",
    "Name = raw_input(\"Enter your name: \")\n",
    "sdf.registerTempTable(\"abc\")\n",
    "\n",
    "qwe = \"SELECT Sum(Count) FROM abc WHERE Name like '%s'\" % Name\n",
    "abc = sqlContext.sql(qwe).show()\n",
    "print(\"response time: %s seconds\" % (time.time() - time5))"
   ]
  }
 ],
 "metadata": {
  "kernelspec": {
   "display_name": "Python 2 with Spark 2.1",
   "language": "python",
   "name": "python2-spark21"
  },
  "language_info": {
   "codemirror_mode": {
    "name": "ipython",
    "version": 2
   },
   "file_extension": ".py",
   "mimetype": "text/x-python",
   "name": "python",
   "nbconvert_exporter": "python",
   "pygments_lexer": "ipython2",
   "version": "2.7.11"
  }
 },
 "nbformat": 4,
 "nbformat_minor": 1
}
